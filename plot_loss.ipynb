{
 "cells": [
  {
   "cell_type": "code",
   "execution_count": null,
   "metadata": {},
   "outputs": [],
   "source": [
    "import numpy as np\n",
    "import matplotlib.pyplot as plt\n",
    "import os\n",
    "\n",
    "from utils.training import plot_log"
   ]
  },
  {
   "cell_type": "code",
   "execution_count": null,
   "metadata": {
    "scrolled": false
   },
   "outputs": [],
   "source": [
    "experiments = !ls -1 ./checkpoints\n",
    "print(*['%3i %s' % (i, v) for i, v in enumerate(experiments.list)], sep='\\n')"
   ]
  },
  {
   "cell_type": "markdown",
   "metadata": {},
   "source": [
    "### Log"
   ]
  },
  {
   "cell_type": "code",
   "execution_count": null,
   "metadata": {
    "scrolled": true
   },
   "outputs": [],
   "source": [
    "checkdir = experiments[-1]\n",
    "\n",
    "names = [\n",
    "    #'loss',\n",
    "    #'lr', \n",
    "    'pos_conf_loss', 'pos_loc_loss', 'neg_conf_loss',\n",
    "    # SegLink\n",
    "    'seg_conf_loss', 'seg_loc_loss', 'link_conf_loss',\n",
    "    #'pos_seg_conf_loss', 'neg_seg_conf_loss', 'pos_link_conf_loss', 'neg_link_conf_loss', \n",
    "    #'num_pos_seg', 'num_neg_seg', \n",
    "    #'num_pos_link', 'num_neg_link',\n",
    "    'seg_fmeasure', 'link_fmeasure',\n",
    "    #'seg_precsion', 'link_precision', \n",
    "    #'seg_recall','link_recall',\n",
    "    #'seg_accuracy', 'link_accuracy',\n",
    "    #'inter_link_conf_loss', 'inter_link_precision', 'inter_link_recall', 'inter_link_accuracy', 'inter_link_fmeasure', \n",
    "    #'cross_link_conf_loss', 'cross_link_precision', 'cross_link_recall', 'cross_link_accuracy', 'cross_link_fmeasure', \n",
    "    # TBPP\n",
    "    'conf_loss', 'loc_loss',\n",
    "    'precision', 'recall', \n",
    "    'fmeasure',\n",
    "]\n",
    "names = None\n",
    "\n",
    "limits = [100, None]\n",
    "#limits = [0, 10000]\n",
    "limits = None\n",
    "\n",
    "plot_log(checkdir, names, limits, window_length=1000)"
   ]
  },
  {
   "cell_type": "code",
   "execution_count": null,
   "metadata": {
    "collapsed": true
   },
   "outputs": [],
   "source": []
  },
  {
   "cell_type": "markdown",
   "metadata": {},
   "source": [
    "### Compare Log"
   ]
  },
  {
   "cell_type": "code",
   "execution_count": null,
   "metadata": {
    "scrolled": false
   },
   "outputs": [],
   "source": [
    "# SegLink\n",
    "\n",
    "checkdir1 = experiments[-2]\n",
    "checkdir2 = experiments[-1]\n",
    "\n",
    "names = [\n",
    "    'loss',\n",
    "    #'pos_conf_loss', 'pos_loc_loss', 'neg_conf_loss',\n",
    "    'seg_conf_loss', 'pos_seg_conf_loss', 'neg_seg_conf_loss',\n",
    "    'seg_loc_loss',\n",
    "    #'link_conf_loss', 'pos_link_conf_loss', 'neg_link_conf_loss',\n",
    "    'inter_link_conf_loss', 'cross_link_conf_loss',\n",
    "    \n",
    "    'seg_fmeasure', 'link_fmeasure',\n",
    "    #'seg_precision', 'seg_recall',\n",
    "    #'link_precision', 'link_recall',\n",
    "]\n",
    "\n",
    "#limits = [200, None]\n",
    "#limits = None\n",
    "\n",
    "plot_log(checkdir1, names, limits, window_length=1000, log_dir_compare=checkdir2)"
   ]
  },
  {
   "cell_type": "code",
   "execution_count": null,
   "metadata": {
    "scrolled": false
   },
   "outputs": [],
   "source": [
    "# TextBoxes++\n",
    "\n",
    "checkdirs = !ls -1 ./checkpoints/ | grep tbpp\n",
    "print(checkdirs.n, '\\n')\n",
    "\n",
    "checkdir1, checkdir2 = checkdirs[0], checkdirs[3]\n",
    "\n",
    "plot_log(checkdir1, \n",
    "         ['loss', 'conf_loss', 'loc_loss', 'precision', 'recall', 'fmeasure'], \n",
    "         [0,None], log_dir_compare=checkdir2, window_length=2500)"
   ]
  },
  {
   "cell_type": "code",
   "execution_count": null,
   "metadata": {
    "collapsed": true
   },
   "outputs": [],
   "source": []
  },
  {
   "cell_type": "markdown",
   "metadata": {},
   "source": [
    "### Playground"
   ]
  },
  {
   "cell_type": "code",
   "execution_count": null,
   "metadata": {},
   "outputs": [],
   "source": [
    "import pandas as pd\n",
    "\n",
    "df = pd.DataFrame.from_csv('./checkpoints/'+checkdir+'/log.csv')"
   ]
  },
  {
   "cell_type": "code",
   "execution_count": null,
   "metadata": {},
   "outputs": [],
   "source": [
    "%%timeit\n",
    "df = pd.DataFrame.from_csv('./checkpoints/'+checkdir+'/log.csv')\n",
    "\n",
    "# json: 8.67 s ± 30.6 ms per loop (mean ± std. dev. of 7 runs, 1 loop each)\n",
    "# csv:  1.93 s ± 16.9 ms per loop (mean ± std. dev. of 7 runs, 1 loop each)"
   ]
  },
  {
   "cell_type": "code",
   "execution_count": null,
   "metadata": {
    "scrolled": false
   },
   "outputs": [],
   "source": [
    "fstr = '%-40s %-6s %-6s %-6s %14s %14s'\n",
    "print(fstr % ('name', 'len', 'nan', 'inf', 'min', 'max'))\n",
    "for k,v in df.items():\n",
    "    print(fstr % (\n",
    "        k, \n",
    "        len(v),\n",
    "        np.any(np.isnan(v)), \n",
    "        np.any(np.logical_not(np.isfinite(v))),\n",
    "        round(np.min(v), 6),\n",
    "        round(np.max(v), 6),\n",
    "    ))"
   ]
  },
  {
   "cell_type": "code",
   "execution_count": null,
   "metadata": {},
   "outputs": [],
   "source": [
    "plt.figure()\n",
    "k = 'loss'\n",
    "#k = 'fmeasure'\n",
    "#k = 'recall'\n",
    "#plt.plot(d['iteration'], d[k])\n",
    "window_length = 20\n",
    "w = np.hanning(window_length)\n",
    "wh = int(window_length/2)\n",
    "x = np.array(df['iteration'])[wh-1:-wh]\n",
    "y = np.convolve(w/w.sum(), np.array(df[k]), mode='valid')\n",
    "plt.plot(x, y)\n",
    "#plt.ylim([0,0.5])\n",
    "plt.grid()\n",
    "plt.show()"
   ]
  },
  {
   "cell_type": "code",
   "execution_count": null,
   "metadata": {
    "collapsed": true
   },
   "outputs": [],
   "source": []
  },
  {
   "cell_type": "code",
   "execution_count": null,
   "metadata": {
    "collapsed": true
   },
   "outputs": [],
   "source": []
  }
 ],
 "metadata": {
  "kernelspec": {
   "display_name": "Python 3",
   "language": "python",
   "name": "python3"
  },
  "language_info": {
   "codemirror_mode": {
    "name": "ipython",
    "version": 3
   },
   "file_extension": ".py",
   "mimetype": "text/x-python",
   "name": "python",
   "nbconvert_exporter": "python",
   "pygments_lexer": "ipython3",
   "version": "3.5.2"
  }
 },
 "nbformat": 4,
 "nbformat_minor": 2
}
